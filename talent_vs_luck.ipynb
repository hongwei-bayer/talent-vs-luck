{
 "cells": [
  {
   "cell_type": "code",
   "execution_count": 5,
   "id": "bf8e7519-e464-4307-aeeb-e338bac5cedc",
   "metadata": {
    "tags": []
   },
   "outputs": [],
   "source": [
    "# !pip install agentpy"
   ]
  },
  {
   "cell_type": "code",
   "execution_count": 3,
   "id": "fed27671",
   "metadata": {
    "tags": []
   },
   "outputs": [],
   "source": [
    "import agentpy as ap\n",
    "import numpy as np\n",
    "# Visualization\n",
    "import matplotlib.pyplot as plt\n",
    "import IPython\n",
    "import math\n",
    "import random\n",
    "from scipy.stats import truncnorm"
   ]
  },
  {
   "cell_type": "code",
   "execution_count": 4,
   "id": "523cf164-8430-4973-b23f-2dd936a4d5f5",
   "metadata": {
    "tags": []
   },
   "outputs": [],
   "source": [
    "def normalize(v):\n",
    "    \"\"\" Normalize a vector to length 2. \"\"\"\n",
    "    norm = np.linalg.norm(v)\n",
    "    if norm == 0:\n",
    "        return v\n",
    "    return math.sqrt(2) * v / norm\n",
    "\n",
    "p = {\n",
    "    'size': 201,\n",
    "    'seed': 123,\n",
    "    'steps': 80,\n",
    "    'population': 500,\n",
    "    'nevent': 100,\n",
    "    'pertlucky': 0.5,\n",
    "    'talentmean': 0.6,\n",
    "    'talentsd': 0.1,\n",
    "    'radius': 1,\n",
    "    'intialcap': 10,\n",
    "    'continuousspace': False, \n",
    "}"
   ]
  },
  {
   "cell_type": "code",
   "execution_count": 63,
   "id": "f64a8315-d58d-4160-850b-d609beb5c23d",
   "metadata": {
    "tags": []
   },
   "outputs": [],
   "source": [
    "class individual(ap.Agent):\n",
    "    \"\"\" An agent with a position and velocity in a continuous space \"\"\"\n",
    "    \n",
    "    \n",
    "    def setup(self):\n",
    "        self.capital = self.p.intialcap\n",
    "        \n",
    "        myclip_a = 0\n",
    "        myclip_b = 1\n",
    "        a, b = (myclip_a - self.p.talentmean) / self.p.talentsd, (myclip_b - self.p.talentmean) / self.p.talentsd\n",
    "        self.talent = truncnorm.rvs(a, b, size=1)[0]\n",
    "    \n",
    "    \n",
    "#     def setup_talent(self):\n",
    "#         myclip_a = 0\n",
    "#         myclip_b = 1\n",
    "\n",
    "#         a, b = (myclip_a - self.p.talentmean) / self.p.talentsd, (myclip_b - self.p.talentmean) / self.p.talentsd\n",
    "#         self.talent = truncnorm.rvs(a, b, size=1)[0]\n",
    "        \n",
    "    \n",
    "    def setup_pos(self, space):\n",
    "        self.space = space\n",
    "        self.neighbors = space.neighbors\n",
    "        self.pos = space.positions[self]\n",
    "        \n",
    "        \n",
    "    def take_action(self):\n",
    "        intersects = self.neighbors(self, distance=self.p.radius)\n",
    "        for nb in intersects:\n",
    "            if nb.type == \"lucky_event\":\n",
    "                if self.talent > random.uniform(0, 1):\n",
    "                    self.capital *= 2\n",
    "#                     print(\"lucky: \", self.capital)\n",
    "            if nb.type == \"unlucky_event\":\n",
    "                self.capital /= 2\n",
    "#                 print(\"unlucky: \", self.capital)\n",
    "    \n",
    "    def get_position(self, space):\n",
    "        return space.positions[self]\n",
    "        \n",
    "        \n",
    "class lucky_event(ap.Agent):\n",
    "    \n",
    "    def setup(self):\n",
    "        # self.velocity = normalize(self.model.nprandom.random(2) - 0.5)\n",
    "        pass\n",
    "    \n",
    "    def update_velocity(self):\n",
    "        if self.p.continuousspace:\n",
    "            self.velocity = normalize(self.model.nprandom.random(2) - 0.5)\n",
    "        else:\n",
    "            directions = [[0,2], [0,-2], [2,0], [-2,0]]\n",
    "            self.velocity = np.array((random.choice(directions)))\n",
    "            \n",
    "    def setup_type(self):\n",
    "        self.velocity\n",
    "    \n",
    "    def setup_pos(self, space):       \n",
    "        self.space = space\n",
    "        self.neighbors = space.neighbors\n",
    "        self.pos = space.positions[self]\n",
    "        \n",
    "    def update_position(self):\n",
    "        self.space.move_by(self, self.velocity)\n",
    "        \n",
    "    def take_action(self):\n",
    "        pass\n",
    "        \n",
    "\n",
    "class unlucky_event(ap.Agent):\n",
    "    \n",
    "    def setup(self):\n",
    "        # self.velocity = normalize(self.model.nprandom.random(2) - 0.5)\n",
    "        pass\n",
    "    \n",
    "    def update_velocity(self):\n",
    "        if self.p.continuousspace:\n",
    "            self.velocity = normalize(self.model.nprandom.random(2) - 0.5)\n",
    "        else:\n",
    "            directions = [[0,2], [0,-2], [2,0], [-2,0], [2, 2], [-2,-2], [2,-2], [-2, 2]]\n",
    "            self.velocity = np.array((random.choice(directions)))\n",
    "    \n",
    "    def setup_pos(self, space):       \n",
    "        self.space = space\n",
    "        self.neighbors = space.neighbors\n",
    "        self.pos = space.positions[self]\n",
    "    \n",
    "    def update_position(self):\n",
    "        self.space.move_by(self, self.velocity)\n",
    "        \n",
    "    def take_action(self):\n",
    "        pass\n",
    "\n",
    "class TvLModel(ap.Model):\n",
    "    \n",
    "    def setup(self):\n",
    "        \n",
    "        if self.p.continuousspace:\n",
    "            self.space = ap.Space(self, shape=[self.p.size]*2, torus=True)\n",
    "        else:\n",
    "            self.space = ap.Grid(self, shape=[self.p.size]*2, torus=True)\n",
    "        \n",
    "        self.people = ap.AgentList(self, self.p.population, individual)\n",
    "        self.space.add_agents(self.people, random=True)\n",
    "        # self.people.setup_talent()\n",
    "        # self.people.setup_capital()\n",
    "        self.people.setup_pos(self.space)\n",
    "        \n",
    "        self.lucky_events = ap.AgentList(self, self.p.nevent, lucky_event)\n",
    "        self.space.add_agents(self.lucky_events, random=True)\n",
    "        self.lucky_events.setup_pos(self.space)\n",
    "\n",
    "        self.unlucky_events = ap.AgentList(self, self.p.nevent, unlucky_event)\n",
    "        self.space.add_agents(self.unlucky_events, random=True)\n",
    "        self.unlucky_events.setup_pos(self.space)\n",
    "        \n",
    "    def step(self):\n",
    "        self.lucky_events.update_velocity()\n",
    "        self.unlucky_events.update_velocity()\n",
    "        self.lucky_events.update_position()\n",
    "        self.unlucky_events.update_position()\n",
    "        self.people.take_action()\n",
    "        self.people.record('capital')\n",
    "        self.people.record('talent')\n",
    "\n",
    "    def update(self):\n",
    "        self.record('individual capital', self.people.capital)\n",
    "\n",
    "    def end(self):\n",
    "        self.people.record('capital')\n",
    "        self.people.record('talent')\n",
    "\n",
    "\n",
    "def animation_plot_single(m, ax):\n",
    "\n",
    "    ax.set_title(f\"Talent vs Luck Model t={m.t}\\n https://github.com/hongwei-bayer/talent-vs-luck\")\n",
    "    ppl_pos = [pos for agent, pos in m.space.positions.items() if agent.type == 'individual']\n",
    "    ppl_pos = np.array(list(ppl_pos)).T  # Transform\n",
    "    \n",
    "    lucky_pos = [pos for agent, pos in m.space.positions.items() if agent.type == 'lucky_event']\n",
    "    lucky_pos = np.array(list(lucky_pos)).T  # Transform\n",
    "    \n",
    "    unlucky_pos = [pos for agent, pos in m.space.positions.items() if agent.type == 'unlucky_event']\n",
    "    unlucky_pos = np.array(list(unlucky_pos)).T  # Transform\n",
    "    \n",
    "    ax.scatter(*ppl_pos, s=50, c='black', marker=\"x\")\n",
    "    ax.scatter(*lucky_pos, s=50, c='green', marker=\"o\")\n",
    "    ax.scatter(*unlucky_pos, s=50, c='red', marker=\"o\")\n",
    "    ax.set_xlim(0, 201)\n",
    "    ax.set_ylim(0, 201)\n",
    "    ax.tick_params(left=False, labelleft=False, bottom=False, labelbottom=False)\n",
    "    # ax.set_axis_off()"
   ]
  },
  {
   "cell_type": "code",
   "execution_count": 67,
   "id": "187ff99a-7e29-47a6-af76-e95a3e86ef8a",
   "metadata": {
    "tags": []
   },
   "outputs": [],
   "source": [
    "'''Animate'''\n",
    "fig = plt.figure(figsize=(7,7))\n",
    "ax = fig.add_subplot(111, projection=None)\n",
    "animation = ap.animate(TvLModel(p), fig, ax, animation_plot_single, steps=80)\n",
    "\n",
    "html = IPython.display.HTML(animation.to_jshtml(fps=15))"
   ]
  },
  {
   "cell_type": "code",
   "execution_count": 72,
   "id": "9dbadffb-8728-402a-a7f5-b786c73986da",
   "metadata": {
    "tags": []
   },
   "outputs": [
    {
     "data": {
      "text/plain": [
       "'display in python notebook'"
      ]
     },
     "execution_count": 72,
     "metadata": {},
     "output_type": "execute_result"
    }
   ],
   "source": [
    "'''display in python notebook'''\n",
    "# html"
   ]
  },
  {
   "cell_type": "code",
   "execution_count": 70,
   "id": "90fc8c65-596a-47fe-a1a8-e8409ddfafb8",
   "metadata": {
    "tags": []
   },
   "outputs": [],
   "source": [
    "'''Animation html write to file'''\n",
    "with open('html_file.html', 'w') as f:\n",
    "    f.write(html.data)"
   ]
  },
  {
   "cell_type": "code",
   "execution_count": 42,
   "id": "18f2e9eb",
   "metadata": {
    "tags": []
   },
   "outputs": [
    {
     "name": "stdout",
     "output_type": "stream",
     "text": [
      "Completed: 80 steps\n",
      "Run time: 0:00:01.307006\n",
      "Simulation finished\n"
     ]
    }
   ],
   "source": [
    "'''Model Run and Data Analysis'''\n",
    "model = TvLModel(p)\n",
    "results = model.run()\n",
    "data = results.variables.individual.reset_index()[['obj_id', 'capital', 'talent']]\n",
    "data = data.set_index('obj_id')"
   ]
  },
  {
   "cell_type": "code",
   "execution_count": 76,
   "id": "5ea9dd31-fb47-4aff-a193-bda650e43d9d",
   "metadata": {
    "tags": []
   },
   "outputs": [
    {
     "data": {
      "text/html": [
       "<div>\n",
       "<style scoped>\n",
       "    .dataframe tbody tr th:only-of-type {\n",
       "        vertical-align: middle;\n",
       "    }\n",
       "\n",
       "    .dataframe tbody tr th {\n",
       "        vertical-align: top;\n",
       "    }\n",
       "\n",
       "    .dataframe thead th {\n",
       "        text-align: right;\n",
       "    }\n",
       "</style>\n",
       "<table border=\"1\" class=\"dataframe\">\n",
       "  <thead>\n",
       "    <tr style=\"text-align: right;\">\n",
       "      <th></th>\n",
       "      <th>obj_id</th>\n",
       "      <th>capital</th>\n",
       "      <th>talent</th>\n",
       "    </tr>\n",
       "  </thead>\n",
       "  <tbody>\n",
       "    <tr>\n",
       "      <th>1519</th>\n",
       "      <td>20</td>\n",
       "      <td>2560.0</td>\n",
       "      <td>0.611182</td>\n",
       "    </tr>\n",
       "    <tr>\n",
       "      <th>5759</th>\n",
       "      <td>73</td>\n",
       "      <td>655360.0</td>\n",
       "      <td>0.801241</td>\n",
       "    </tr>\n",
       "    <tr>\n",
       "      <th>7679</th>\n",
       "      <td>97</td>\n",
       "      <td>640.0</td>\n",
       "      <td>0.920543</td>\n",
       "    </tr>\n",
       "    <tr>\n",
       "      <th>10239</th>\n",
       "      <td>129</td>\n",
       "      <td>20480.0</td>\n",
       "      <td>0.923977</td>\n",
       "    </tr>\n",
       "    <tr>\n",
       "      <th>15119</th>\n",
       "      <td>190</td>\n",
       "      <td>5242880.0</td>\n",
       "      <td>1.695298</td>\n",
       "    </tr>\n",
       "    <tr>\n",
       "      <th>15199</th>\n",
       "      <td>191</td>\n",
       "      <td>5120.0</td>\n",
       "      <td>0.912821</td>\n",
       "    </tr>\n",
       "    <tr>\n",
       "      <th>17839</th>\n",
       "      <td>224</td>\n",
       "      <td>1280.0</td>\n",
       "      <td>1.265441</td>\n",
       "    </tr>\n",
       "    <tr>\n",
       "      <th>31359</th>\n",
       "      <td>393</td>\n",
       "      <td>640.0</td>\n",
       "      <td>1.304393</td>\n",
       "    </tr>\n",
       "  </tbody>\n",
       "</table>\n",
       "</div>"
      ],
      "text/plain": [
       "       obj_id    capital    talent\n",
       "1519       20     2560.0  0.611182\n",
       "5759       73   655360.0  0.801241\n",
       "7679       97      640.0  0.920543\n",
       "10239     129    20480.0  0.923977\n",
       "15119     190  5242880.0  1.695298\n",
       "15199     191     5120.0  0.912821\n",
       "17839     224     1280.0  1.265441\n",
       "31359     393      640.0  1.304393"
      ]
     },
     "execution_count": 76,
     "metadata": {},
     "output_type": "execute_result"
    }
   ],
   "source": [
    "final_capital[final_capital.capital > 500]"
   ]
  },
  {
   "cell_type": "code",
   "execution_count": null,
   "id": "73795ab4-2701-4c0d-8f36-6ac39fb51aa5",
   "metadata": {},
   "outputs": [],
   "source": []
  },
  {
   "cell_type": "code",
   "execution_count": null,
   "id": "325b97b9",
   "metadata": {},
   "outputs": [],
   "source": []
  }
 ],
 "metadata": {
  "availableInstances": [
   {
    "_defaultOrder": 0,
    "_isFastLaunch": true,
    "category": "General purpose",
    "gpuNum": 0,
    "hideHardwareSpecs": false,
    "memoryGiB": 4,
    "name": "ml.t3.medium",
    "vcpuNum": 2
   },
   {
    "_defaultOrder": 1,
    "_isFastLaunch": false,
    "category": "General purpose",
    "gpuNum": 0,
    "hideHardwareSpecs": false,
    "memoryGiB": 8,
    "name": "ml.t3.large",
    "vcpuNum": 2
   },
   {
    "_defaultOrder": 2,
    "_isFastLaunch": false,
    "category": "General purpose",
    "gpuNum": 0,
    "hideHardwareSpecs": false,
    "memoryGiB": 16,
    "name": "ml.t3.xlarge",
    "vcpuNum": 4
   },
   {
    "_defaultOrder": 3,
    "_isFastLaunch": false,
    "category": "General purpose",
    "gpuNum": 0,
    "hideHardwareSpecs": false,
    "memoryGiB": 32,
    "name": "ml.t3.2xlarge",
    "vcpuNum": 8
   },
   {
    "_defaultOrder": 4,
    "_isFastLaunch": true,
    "category": "General purpose",
    "gpuNum": 0,
    "hideHardwareSpecs": false,
    "memoryGiB": 8,
    "name": "ml.m5.large",
    "vcpuNum": 2
   },
   {
    "_defaultOrder": 5,
    "_isFastLaunch": false,
    "category": "General purpose",
    "gpuNum": 0,
    "hideHardwareSpecs": false,
    "memoryGiB": 16,
    "name": "ml.m5.xlarge",
    "vcpuNum": 4
   },
   {
    "_defaultOrder": 6,
    "_isFastLaunch": false,
    "category": "General purpose",
    "gpuNum": 0,
    "hideHardwareSpecs": false,
    "memoryGiB": 32,
    "name": "ml.m5.2xlarge",
    "vcpuNum": 8
   },
   {
    "_defaultOrder": 7,
    "_isFastLaunch": false,
    "category": "General purpose",
    "gpuNum": 0,
    "hideHardwareSpecs": false,
    "memoryGiB": 64,
    "name": "ml.m5.4xlarge",
    "vcpuNum": 16
   },
   {
    "_defaultOrder": 8,
    "_isFastLaunch": false,
    "category": "General purpose",
    "gpuNum": 0,
    "hideHardwareSpecs": false,
    "memoryGiB": 128,
    "name": "ml.m5.8xlarge",
    "vcpuNum": 32
   },
   {
    "_defaultOrder": 9,
    "_isFastLaunch": false,
    "category": "General purpose",
    "gpuNum": 0,
    "hideHardwareSpecs": false,
    "memoryGiB": 192,
    "name": "ml.m5.12xlarge",
    "vcpuNum": 48
   },
   {
    "_defaultOrder": 10,
    "_isFastLaunch": false,
    "category": "General purpose",
    "gpuNum": 0,
    "hideHardwareSpecs": false,
    "memoryGiB": 256,
    "name": "ml.m5.16xlarge",
    "vcpuNum": 64
   },
   {
    "_defaultOrder": 11,
    "_isFastLaunch": false,
    "category": "General purpose",
    "gpuNum": 0,
    "hideHardwareSpecs": false,
    "memoryGiB": 384,
    "name": "ml.m5.24xlarge",
    "vcpuNum": 96
   },
   {
    "_defaultOrder": 12,
    "_isFastLaunch": false,
    "category": "General purpose",
    "gpuNum": 0,
    "hideHardwareSpecs": false,
    "memoryGiB": 8,
    "name": "ml.m5d.large",
    "vcpuNum": 2
   },
   {
    "_defaultOrder": 13,
    "_isFastLaunch": false,
    "category": "General purpose",
    "gpuNum": 0,
    "hideHardwareSpecs": false,
    "memoryGiB": 16,
    "name": "ml.m5d.xlarge",
    "vcpuNum": 4
   },
   {
    "_defaultOrder": 14,
    "_isFastLaunch": false,
    "category": "General purpose",
    "gpuNum": 0,
    "hideHardwareSpecs": false,
    "memoryGiB": 32,
    "name": "ml.m5d.2xlarge",
    "vcpuNum": 8
   },
   {
    "_defaultOrder": 15,
    "_isFastLaunch": false,
    "category": "General purpose",
    "gpuNum": 0,
    "hideHardwareSpecs": false,
    "memoryGiB": 64,
    "name": "ml.m5d.4xlarge",
    "vcpuNum": 16
   },
   {
    "_defaultOrder": 16,
    "_isFastLaunch": false,
    "category": "General purpose",
    "gpuNum": 0,
    "hideHardwareSpecs": false,
    "memoryGiB": 128,
    "name": "ml.m5d.8xlarge",
    "vcpuNum": 32
   },
   {
    "_defaultOrder": 17,
    "_isFastLaunch": false,
    "category": "General purpose",
    "gpuNum": 0,
    "hideHardwareSpecs": false,
    "memoryGiB": 192,
    "name": "ml.m5d.12xlarge",
    "vcpuNum": 48
   },
   {
    "_defaultOrder": 18,
    "_isFastLaunch": false,
    "category": "General purpose",
    "gpuNum": 0,
    "hideHardwareSpecs": false,
    "memoryGiB": 256,
    "name": "ml.m5d.16xlarge",
    "vcpuNum": 64
   },
   {
    "_defaultOrder": 19,
    "_isFastLaunch": false,
    "category": "General purpose",
    "gpuNum": 0,
    "hideHardwareSpecs": false,
    "memoryGiB": 384,
    "name": "ml.m5d.24xlarge",
    "vcpuNum": 96
   },
   {
    "_defaultOrder": 20,
    "_isFastLaunch": false,
    "category": "General purpose",
    "gpuNum": 0,
    "hideHardwareSpecs": true,
    "memoryGiB": 0,
    "name": "ml.geospatial.interactive",
    "supportedImageNames": [
     "sagemaker-geospatial-v1-0"
    ],
    "vcpuNum": 0
   },
   {
    "_defaultOrder": 21,
    "_isFastLaunch": true,
    "category": "Compute optimized",
    "gpuNum": 0,
    "hideHardwareSpecs": false,
    "memoryGiB": 4,
    "name": "ml.c5.large",
    "vcpuNum": 2
   },
   {
    "_defaultOrder": 22,
    "_isFastLaunch": false,
    "category": "Compute optimized",
    "gpuNum": 0,
    "hideHardwareSpecs": false,
    "memoryGiB": 8,
    "name": "ml.c5.xlarge",
    "vcpuNum": 4
   },
   {
    "_defaultOrder": 23,
    "_isFastLaunch": false,
    "category": "Compute optimized",
    "gpuNum": 0,
    "hideHardwareSpecs": false,
    "memoryGiB": 16,
    "name": "ml.c5.2xlarge",
    "vcpuNum": 8
   },
   {
    "_defaultOrder": 24,
    "_isFastLaunch": false,
    "category": "Compute optimized",
    "gpuNum": 0,
    "hideHardwareSpecs": false,
    "memoryGiB": 32,
    "name": "ml.c5.4xlarge",
    "vcpuNum": 16
   },
   {
    "_defaultOrder": 25,
    "_isFastLaunch": false,
    "category": "Compute optimized",
    "gpuNum": 0,
    "hideHardwareSpecs": false,
    "memoryGiB": 72,
    "name": "ml.c5.9xlarge",
    "vcpuNum": 36
   },
   {
    "_defaultOrder": 26,
    "_isFastLaunch": false,
    "category": "Compute optimized",
    "gpuNum": 0,
    "hideHardwareSpecs": false,
    "memoryGiB": 96,
    "name": "ml.c5.12xlarge",
    "vcpuNum": 48
   },
   {
    "_defaultOrder": 27,
    "_isFastLaunch": false,
    "category": "Compute optimized",
    "gpuNum": 0,
    "hideHardwareSpecs": false,
    "memoryGiB": 144,
    "name": "ml.c5.18xlarge",
    "vcpuNum": 72
   },
   {
    "_defaultOrder": 28,
    "_isFastLaunch": false,
    "category": "Compute optimized",
    "gpuNum": 0,
    "hideHardwareSpecs": false,
    "memoryGiB": 192,
    "name": "ml.c5.24xlarge",
    "vcpuNum": 96
   },
   {
    "_defaultOrder": 29,
    "_isFastLaunch": true,
    "category": "Accelerated computing",
    "gpuNum": 1,
    "hideHardwareSpecs": false,
    "memoryGiB": 16,
    "name": "ml.g4dn.xlarge",
    "vcpuNum": 4
   },
   {
    "_defaultOrder": 30,
    "_isFastLaunch": false,
    "category": "Accelerated computing",
    "gpuNum": 1,
    "hideHardwareSpecs": false,
    "memoryGiB": 32,
    "name": "ml.g4dn.2xlarge",
    "vcpuNum": 8
   },
   {
    "_defaultOrder": 31,
    "_isFastLaunch": false,
    "category": "Accelerated computing",
    "gpuNum": 1,
    "hideHardwareSpecs": false,
    "memoryGiB": 64,
    "name": "ml.g4dn.4xlarge",
    "vcpuNum": 16
   },
   {
    "_defaultOrder": 32,
    "_isFastLaunch": false,
    "category": "Accelerated computing",
    "gpuNum": 1,
    "hideHardwareSpecs": false,
    "memoryGiB": 128,
    "name": "ml.g4dn.8xlarge",
    "vcpuNum": 32
   },
   {
    "_defaultOrder": 33,
    "_isFastLaunch": false,
    "category": "Accelerated computing",
    "gpuNum": 4,
    "hideHardwareSpecs": false,
    "memoryGiB": 192,
    "name": "ml.g4dn.12xlarge",
    "vcpuNum": 48
   },
   {
    "_defaultOrder": 34,
    "_isFastLaunch": false,
    "category": "Accelerated computing",
    "gpuNum": 1,
    "hideHardwareSpecs": false,
    "memoryGiB": 256,
    "name": "ml.g4dn.16xlarge",
    "vcpuNum": 64
   },
   {
    "_defaultOrder": 35,
    "_isFastLaunch": false,
    "category": "Accelerated computing",
    "gpuNum": 1,
    "hideHardwareSpecs": false,
    "memoryGiB": 61,
    "name": "ml.p3.2xlarge",
    "vcpuNum": 8
   },
   {
    "_defaultOrder": 36,
    "_isFastLaunch": false,
    "category": "Accelerated computing",
    "gpuNum": 4,
    "hideHardwareSpecs": false,
    "memoryGiB": 244,
    "name": "ml.p3.8xlarge",
    "vcpuNum": 32
   },
   {
    "_defaultOrder": 37,
    "_isFastLaunch": false,
    "category": "Accelerated computing",
    "gpuNum": 8,
    "hideHardwareSpecs": false,
    "memoryGiB": 488,
    "name": "ml.p3.16xlarge",
    "vcpuNum": 64
   },
   {
    "_defaultOrder": 38,
    "_isFastLaunch": false,
    "category": "Accelerated computing",
    "gpuNum": 8,
    "hideHardwareSpecs": false,
    "memoryGiB": 768,
    "name": "ml.p3dn.24xlarge",
    "vcpuNum": 96
   },
   {
    "_defaultOrder": 39,
    "_isFastLaunch": false,
    "category": "Memory Optimized",
    "gpuNum": 0,
    "hideHardwareSpecs": false,
    "memoryGiB": 16,
    "name": "ml.r5.large",
    "vcpuNum": 2
   },
   {
    "_defaultOrder": 40,
    "_isFastLaunch": false,
    "category": "Memory Optimized",
    "gpuNum": 0,
    "hideHardwareSpecs": false,
    "memoryGiB": 32,
    "name": "ml.r5.xlarge",
    "vcpuNum": 4
   },
   {
    "_defaultOrder": 41,
    "_isFastLaunch": false,
    "category": "Memory Optimized",
    "gpuNum": 0,
    "hideHardwareSpecs": false,
    "memoryGiB": 64,
    "name": "ml.r5.2xlarge",
    "vcpuNum": 8
   },
   {
    "_defaultOrder": 42,
    "_isFastLaunch": false,
    "category": "Memory Optimized",
    "gpuNum": 0,
    "hideHardwareSpecs": false,
    "memoryGiB": 128,
    "name": "ml.r5.4xlarge",
    "vcpuNum": 16
   },
   {
    "_defaultOrder": 43,
    "_isFastLaunch": false,
    "category": "Memory Optimized",
    "gpuNum": 0,
    "hideHardwareSpecs": false,
    "memoryGiB": 256,
    "name": "ml.r5.8xlarge",
    "vcpuNum": 32
   },
   {
    "_defaultOrder": 44,
    "_isFastLaunch": false,
    "category": "Memory Optimized",
    "gpuNum": 0,
    "hideHardwareSpecs": false,
    "memoryGiB": 384,
    "name": "ml.r5.12xlarge",
    "vcpuNum": 48
   },
   {
    "_defaultOrder": 45,
    "_isFastLaunch": false,
    "category": "Memory Optimized",
    "gpuNum": 0,
    "hideHardwareSpecs": false,
    "memoryGiB": 512,
    "name": "ml.r5.16xlarge",
    "vcpuNum": 64
   },
   {
    "_defaultOrder": 46,
    "_isFastLaunch": false,
    "category": "Memory Optimized",
    "gpuNum": 0,
    "hideHardwareSpecs": false,
    "memoryGiB": 768,
    "name": "ml.r5.24xlarge",
    "vcpuNum": 96
   },
   {
    "_defaultOrder": 47,
    "_isFastLaunch": false,
    "category": "Accelerated computing",
    "gpuNum": 1,
    "hideHardwareSpecs": false,
    "memoryGiB": 16,
    "name": "ml.g5.xlarge",
    "vcpuNum": 4
   },
   {
    "_defaultOrder": 48,
    "_isFastLaunch": false,
    "category": "Accelerated computing",
    "gpuNum": 1,
    "hideHardwareSpecs": false,
    "memoryGiB": 32,
    "name": "ml.g5.2xlarge",
    "vcpuNum": 8
   },
   {
    "_defaultOrder": 49,
    "_isFastLaunch": false,
    "category": "Accelerated computing",
    "gpuNum": 1,
    "hideHardwareSpecs": false,
    "memoryGiB": 64,
    "name": "ml.g5.4xlarge",
    "vcpuNum": 16
   },
   {
    "_defaultOrder": 50,
    "_isFastLaunch": false,
    "category": "Accelerated computing",
    "gpuNum": 1,
    "hideHardwareSpecs": false,
    "memoryGiB": 128,
    "name": "ml.g5.8xlarge",
    "vcpuNum": 32
   },
   {
    "_defaultOrder": 51,
    "_isFastLaunch": false,
    "category": "Accelerated computing",
    "gpuNum": 1,
    "hideHardwareSpecs": false,
    "memoryGiB": 256,
    "name": "ml.g5.16xlarge",
    "vcpuNum": 64
   },
   {
    "_defaultOrder": 52,
    "_isFastLaunch": false,
    "category": "Accelerated computing",
    "gpuNum": 4,
    "hideHardwareSpecs": false,
    "memoryGiB": 192,
    "name": "ml.g5.12xlarge",
    "vcpuNum": 48
   },
   {
    "_defaultOrder": 53,
    "_isFastLaunch": false,
    "category": "Accelerated computing",
    "gpuNum": 4,
    "hideHardwareSpecs": false,
    "memoryGiB": 384,
    "name": "ml.g5.24xlarge",
    "vcpuNum": 96
   },
   {
    "_defaultOrder": 54,
    "_isFastLaunch": false,
    "category": "Accelerated computing",
    "gpuNum": 8,
    "hideHardwareSpecs": false,
    "memoryGiB": 768,
    "name": "ml.g5.48xlarge",
    "vcpuNum": 192
   }
  ],
  "instance_type": "ml.g4dn.xlarge",
  "kernelspec": {
   "display_name": "python3 (smarter-pipeline-sagemaker-image-hongwei-base/4)",
   "language": "python",
   "name": "python3__SAGEMAKER_INTERNAL__arn:aws:sagemaker:us-east-1:038579005150:image-version/smarter-pipeline-sagemaker-image-hongwei-base/4"
  },
  "language_info": {
   "codemirror_mode": {
    "name": "ipython",
    "version": 3
   },
   "file_extension": ".py",
   "mimetype": "text/x-python",
   "name": "python",
   "nbconvert_exporter": "python",
   "pygments_lexer": "ipython3",
   "version": "3.9.13"
  }
 },
 "nbformat": 4,
 "nbformat_minor": 5
}
