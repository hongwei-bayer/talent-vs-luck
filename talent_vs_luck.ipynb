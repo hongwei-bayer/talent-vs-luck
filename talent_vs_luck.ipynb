{
 "cells": [
  {
   "cell_type": "code",
   "execution_count": null,
   "id": "fed27671",
   "metadata": {},
   "outputs": [],
   "source": [
    "import agentpy as ap\n",
    "import numpy as np\n",
    "# Visualization\n",
    "import matplotlib.pyplot as plt\n",
    "import IPython\n",
    "import math\n",
    "import random"
   ]
  },
  {
   "cell_type": "code",
   "execution_count": null,
   "id": "16bc4e3c",
   "metadata": {},
   "outputs": [],
   "source": [
    "def normalize(v):\n",
    "    \"\"\" Normalize a vector to length 2. \"\"\"\n",
    "    norm = np.linalg.norm(v)\n",
    "    if norm == 0:\n",
    "        return v\n",
    "    return math.sqrt(2) * v / norm"
   ]
  },
  {
   "cell_type": "code",
   "execution_count": null,
   "id": "2cd31e96",
   "metadata": {},
   "outputs": [],
   "source": [
    "p = {\n",
    "    'size': 201,\n",
    "    'seed': 123,\n",
    "    'steps': 80,\n",
    "    'population': 1000,\n",
    "    'nevent': 250,\n",
    "    'pertlucky': 0.5,\n",
    "    'talentmean': 0.6,\n",
    "    'talentsd': 0.1,\n",
    "    'radius': 2,\n",
    "    'intialcap': 10,\n",
    "}"
   ]
  },
  {
   "cell_type": "code",
   "execution_count": null,
   "id": "ae242ba0",
   "metadata": {},
   "outputs": [],
   "source": [
    "class individual(ap.Agent):\n",
    "    \"\"\" An agent with a position and velocity in a continuous space,\n",
    "    who follows Craig Reynolds three rules of flocking behavior;\n",
    "    plus a fourth rule to avoid the edges of the simulation space. \"\"\"\n",
    "    \n",
    "    def setup_talent(self):\n",
    "        self.talent = model.nprandom.normal(self.p.talentmean, self.p.talentsd)\n",
    "        \n",
    "    def setup_capital(self):\n",
    "        self.capital = self.p.intialcap\n",
    "    \n",
    "    def setup_pos(self, space):\n",
    "        self.space = space\n",
    "        self.neighbors = space.neighbors\n",
    "        self.pos = space.positions[self]\n",
    "        \n",
    "    def take_action(self):\n",
    "        intersects = self.neighbors(self, distance=self.p.radius)\n",
    "        for nb in intersects:\n",
    "            if nb.type == \"lucky_event\":\n",
    "                if self.talent > random.uniform(0, 1):\n",
    "                    self.capital *= 2\n",
    "#                     print(\"lucky: \", self.capital)\n",
    "            if nb.type == \"unlucky_event\":\n",
    "                self.capital /= 2\n",
    "#                 print(\"unlucky: \", self.capital)\n",
    "        \n",
    "        \n",
    "class lucky_event(ap.Agent):\n",
    "    \n",
    "    def setup(self):\n",
    "        self.velocity = normalize(self.model.nprandom.random(2) - 0.5)\n",
    "    \n",
    "    def update_velocity(self):\n",
    "        self.velocity = normalize(self.model.nprandom.random(2) - 0.5)\n",
    "    \n",
    "    def setup_type(self):\n",
    "        self.velocity\n",
    "    \n",
    "    def setup_pos(self, space):       \n",
    "        self.space = space\n",
    "        self.neighbors = space.neighbors\n",
    "        self.pos = space.positions[self]\n",
    "        \n",
    "    def update_position(self):\n",
    "        self.space.move_by(self, self.velocity)\n",
    "        \n",
    "    def take_action(self):\n",
    "        pass\n",
    "        \n",
    "\n",
    "class unlucky_event(ap.Agent):\n",
    "    \n",
    "    def setup(self):\n",
    "        self.velocity = normalize(self.model.nprandom.random(2) - 0.5)\n",
    "    \n",
    "    def update_velocity(self):\n",
    "        self.velocity = normalize(self.model.nprandom.random(2) - 0.5)\n",
    "    \n",
    "    def setup_pos(self, space):       \n",
    "        self.space = space\n",
    "        self.neighbors = space.neighbors\n",
    "        self.pos = space.positions[self]\n",
    "    \n",
    "    def update_position(self):\n",
    "        self.space.move_by(self, self.velocity)\n",
    "        \n",
    "    def take_action(self):\n",
    "        pass"
   ]
  },
  {
   "cell_type": "code",
   "execution_count": null,
   "id": "563806e2",
   "metadata": {},
   "outputs": [],
   "source": [
    "class TvLModel(ap.Model):\n",
    "    \n",
    "    def setup(self):\n",
    "\n",
    "        self.space = ap.Space(self, shape=[self.p.size]*2)\n",
    "\n",
    "        self.people = ap.AgentList(self, self.p.population, individual)\n",
    "        self.space.add_agents(self.people, random=True)\n",
    "        self.people.setup_talent()\n",
    "        self.people.setup_capital()\n",
    "        self.people.setup_pos(self.space)\n",
    "        \n",
    "        self.lucky_events = ap.AgentList(self, self.p.nevent, lucky_event)\n",
    "        self.space.add_agents(self.lucky_events, random=True)\n",
    "        self.lucky_events.setup_pos(self.space)\n",
    "\n",
    "        self.unlucky_events = ap.AgentList(self, self.p.nevent, unlucky_event)\n",
    "        self.space.add_agents(self.unlucky_events, random=True)\n",
    "        self.unlucky_events.setup_pos(self.space)\n",
    "        \n",
    "    def step(self):\n",
    "        self.lucky_events.update_velocity()\n",
    "        self.unlucky_events.update_velocity()\n",
    "        self.lucky_events.update_position()\n",
    "        self.unlucky_events.update_position()\n",
    "        self.people.take_action()\n",
    "\n",
    "    def update(self):\n",
    "        self.record('individual capital', self.people.capital)\n",
    "\n",
    "    def end(self):\n",
    "        self.people.record('capital')\n",
    "        self.people.record('talent')\n"
   ]
  },
  {
   "cell_type": "code",
   "execution_count": null,
   "id": "40f4b504",
   "metadata": {},
   "outputs": [],
   "source": [
    "def animation_plot_single(m, ax):\n",
    "\n",
    "    ax.set_title(f\"Boids Flocking Model t={m.t}\")\n",
    "    ppl_pos = [pos for agent, pos in m.space.positions.items() if agent.type == 'individual']\n",
    "    ppl_pos = np.array(list(ppl_pos)).T  # Transform\n",
    "    \n",
    "    lucky_pos = [pos for agent, pos in m.space.positions.items() if agent.type == 'lucky_event']\n",
    "    lucky_pos = np.array(list(lucky_pos)).T  # Transform\n",
    "    \n",
    "    unlucky_pos = [pos for agent, pos in m.space.positions.items() if agent.type == 'unlucky_event']\n",
    "    unlucky_pos = np.array(list(unlucky_pos)).T  # Transform\n",
    "    \n",
    "    ax.scatter(*ppl_pos, s=200, c='black', marker=\"x\")\n",
    "    ax.scatter(*lucky_pos, s=200, c='green', marker=\"o\")\n",
    "    ax.scatter(*unlucky_pos, s=200, c='red', marker=\"o\")\n",
    "    ax.set_xlim(0, 50)\n",
    "    ax.set_ylim(0, 50)\n",
    "    ax.set_axis_off()"
   ]
  },
  {
   "cell_type": "code",
   "execution_count": null,
   "id": "18f2e9eb",
   "metadata": {},
   "outputs": [],
   "source": [
    "fig = plt.figure(figsize=(7,7))\n",
    "ax = fig.add_subplot(111, projection=None)\n",
    "animation = ap.animate(TvLModel(p), fig, ax, animation_plot_single, steps=80)\n",
    "IPython.display.HTML(animation.to_jshtml(fps=15))"
   ]
  },
  {
   "cell_type": "code",
   "execution_count": null,
   "id": "54e33c7d",
   "metadata": {
    "scrolled": false
   },
   "outputs": [],
   "source": [
    "model = TvLModel(p)\n",
    "results = model.run()"
   ]
  },
  {
   "cell_type": "code",
   "execution_count": null,
   "id": "e8ea7012",
   "metadata": {},
   "outputs": [],
   "source": [
    "data = results.variables.individual\n",
    "data = data.reset_index()[['obj_id', 'capital', 'talent']]"
   ]
  },
  {
   "cell_type": "code",
   "execution_count": null,
   "id": "99470d80",
   "metadata": {},
   "outputs": [],
   "source": [
    "data = data.set_index('obj_id')"
   ]
  },
  {
   "cell_type": "code",
   "execution_count": null,
   "id": "95160148",
   "metadata": {},
   "outputs": [],
   "source": [
    "data.sort_values('talent', ascending=False)"
   ]
  },
  {
   "cell_type": "code",
   "execution_count": null,
   "id": "38af3d8f",
   "metadata": {},
   "outputs": [],
   "source": [
    "data.sort_values('capital', ascending=False)"
   ]
  },
  {
   "cell_type": "code",
   "execution_count": null,
   "id": "9b4569af",
   "metadata": {},
   "outputs": [],
   "source": []
  },
  {
   "cell_type": "code",
   "execution_count": null,
   "id": "1ec0b6a6",
   "metadata": {},
   "outputs": [],
   "source": []
  },
  {
   "cell_type": "code",
   "execution_count": null,
   "id": "325b97b9",
   "metadata": {},
   "outputs": [],
   "source": []
  }
 ],
 "metadata": {
  "kernelspec": {
   "display_name": "Python 3",
   "language": "python",
   "name": "python3"
  },
  "language_info": {
   "codemirror_mode": {
    "name": "ipython",
    "version": 3
   },
   "file_extension": ".py",
   "mimetype": "text/x-python",
   "name": "python",
   "nbconvert_exporter": "python",
   "pygments_lexer": "ipython3",
   "version": "3.7.10"
  }
 },
 "nbformat": 4,
 "nbformat_minor": 5
}
